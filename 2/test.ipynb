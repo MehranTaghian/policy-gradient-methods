{
 "cells": [
  {
   "cell_type": "code",
   "execution_count": 1,
   "id": "38cc72ba",
   "metadata": {},
   "outputs": [],
   "source": [
    "import numpy as np\n",
    "import torch as tor"
   ]
  },
  {
   "cell_type": "code",
   "execution_count": 3,
   "id": "6a4bfb6e",
   "metadata": {},
   "outputs": [],
   "source": [
    "np.random.seed(0)\n",
    "prefnp = np.random.randn(3)\n",
    "pref = tor.tensor(prefnp, dtype=tor.float32, requires_grad=True)\n",
    "pol = tor.distributions.Categorical(logits=pref)"
   ]
  },
  {
   "cell_type": "code",
   "execution_count": 4,
   "id": "feb21f1a",
   "metadata": {},
   "outputs": [
    {
     "data": {
      "text/plain": [
       "array([1.76405235, 0.40015721, 0.97873798])"
      ]
     },
     "execution_count": 4,
     "metadata": {},
     "output_type": "execute_result"
    }
   ],
   "source": [
    "prefnp"
   ]
  },
  {
   "cell_type": "code",
   "execution_count": 5,
   "id": "81036680",
   "metadata": {},
   "outputs": [
    {
     "data": {
      "text/plain": [
       "tensor([1.7641, 0.4002, 0.9787], requires_grad=True)"
      ]
     },
     "execution_count": 5,
     "metadata": {},
     "output_type": "execute_result"
    }
   ],
   "source": [
    "pref"
   ]
  },
  {
   "cell_type": "code",
   "execution_count": 7,
   "id": "3da54be1",
   "metadata": {},
   "outputs": [
    {
     "data": {
      "text/plain": [
       "tensor([0.5842, 0.1494, 0.2664], grad_fn=<SoftmaxBackward>)"
      ]
     },
     "execution_count": 7,
     "metadata": {},
     "output_type": "execute_result"
    }
   ],
   "source": [
    "pol.probs"
   ]
  },
  {
   "cell_type": "code",
   "execution_count": 13,
   "id": "889c3315",
   "metadata": {},
   "outputs": [
    {
     "data": {
      "text/plain": [
       "tensor(0)"
      ]
     },
     "execution_count": 13,
     "metadata": {},
     "output_type": "execute_result"
    }
   ],
   "source": [
    "pol.sample()"
   ]
  },
  {
   "cell_type": "code",
   "execution_count": 3,
   "id": "53e63f0e",
   "metadata": {},
   "outputs": [],
   "source": [
    "dist = tor.distributions.Normal(0, 1) "
   ]
  },
  {
   "cell_type": "code",
   "execution_count": 17,
   "id": "02860c3f",
   "metadata": {},
   "outputs": [],
   "source": [
    "eps = dist.sample()"
   ]
  },
  {
   "cell_type": "code",
   "execution_count": 18,
   "id": "6ebc32b4",
   "metadata": {},
   "outputs": [
    {
     "data": {
      "text/plain": [
       "tensor(-0.9928)"
      ]
     },
     "execution_count": 18,
     "metadata": {},
     "output_type": "execute_result"
    }
   ],
   "source": [
    "eps"
   ]
  },
  {
   "cell_type": "code",
   "execution_count": 19,
   "id": "150f1633",
   "metadata": {},
   "outputs": [
    {
     "data": {
      "text/plain": [
       "tensor(0.2437)"
      ]
     },
     "execution_count": 19,
     "metadata": {},
     "output_type": "execute_result"
    }
   ],
   "source": [
    "tor.exp(dist.log_prob(eps))"
   ]
  },
  {
   "cell_type": "code",
   "execution_count": 29,
   "id": "7143abb0",
   "metadata": {},
   "outputs": [
    {
     "data": {
      "text/plain": [
       "tensor(0.3970)"
      ]
     },
     "execution_count": 29,
     "metadata": {},
     "output_type": "execute_result"
    }
   ],
   "source": [
    "tor.exp(dist.log_prob(tor.tensor(-0.1)))"
   ]
  },
  {
   "cell_type": "code",
   "execution_count": null,
   "id": "f1c98022",
   "metadata": {},
   "outputs": [],
   "source": []
  }
 ],
 "metadata": {
  "kernelspec": {
   "display_name": "Python 3 (ipykernel)",
   "language": "python",
   "name": "python3"
  },
  "language_info": {
   "codemirror_mode": {
    "name": "ipython",
    "version": 3
   },
   "file_extension": ".py",
   "mimetype": "text/x-python",
   "name": "python",
   "nbconvert_exporter": "python",
   "pygments_lexer": "ipython3",
   "version": "3.8.10"
  }
 },
 "nbformat": 4,
 "nbformat_minor": 5
}
