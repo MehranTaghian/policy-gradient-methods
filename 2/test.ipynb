{
 "cells": [
  {
   "cell_type": "code",
   "execution_count": 2,
   "id": "38cc72ba",
   "metadata": {},
   "outputs": [],
   "source": [
    "import numpy as np\n",
    "import torch "
   ]
  },
  {
   "cell_type": "code",
   "execution_count": 15,
   "id": "6a4bfb6e",
   "metadata": {},
   "outputs": [],
   "source": [
    "np.random.seed(0)\n",
    "prefnp = np.random.randn(3)\n",
    "pref = tor.tensor(prefnp, dtype=tor.float32, requires_grad=True)\n",
    "pol = tor.distributions.Categorical(logits=pref)"
   ]
  },
  {
   "cell_type": "code",
   "execution_count": 20,
   "id": "feb21f1a",
   "metadata": {},
   "outputs": [
    {
     "data": {
      "text/plain": [
       "tensor([0.5842, 0.1494, 0.2664], grad_fn=<SoftmaxBackward>)"
      ]
     },
     "execution_count": 20,
     "metadata": {},
     "output_type": "execute_result"
    }
   ],
   "source": [
    "pol.probs"
   ]
  },
  {
   "cell_type": "code",
   "execution_count": 22,
   "id": "81036680",
   "metadata": {},
   "outputs": [
    {
     "data": {
      "text/plain": [
       "tensor(0.5613, grad_fn=<DivBackward0>)"
      ]
     },
     "execution_count": 22,
     "metadata": {},
     "output_type": "execute_result"
    }
   ],
   "source": []
  },
  {
   "cell_type": "code",
   "execution_count": 7,
   "id": "3da54be1",
   "metadata": {},
   "outputs": [
    {
     "data": {
      "text/plain": [
       "tensor([0.5842, 0.1494, 0.2664], grad_fn=<SoftmaxBackward>)"
      ]
     },
     "execution_count": 7,
     "metadata": {},
     "output_type": "execute_result"
    }
   ],
   "source": [
    "pol.probs"
   ]
  },
  {
   "cell_type": "code",
   "execution_count": 13,
   "id": "889c3315",
   "metadata": {},
   "outputs": [
    {
     "data": {
      "text/plain": [
       "tensor(0)"
      ]
     },
     "execution_count": 13,
     "metadata": {},
     "output_type": "execute_result"
    }
   ],
   "source": [
    "pol.sample()"
   ]
  },
  {
   "cell_type": "code",
   "execution_count": 3,
   "id": "53e63f0e",
   "metadata": {},
   "outputs": [],
   "source": [
    "dist = tor.distributions.Normal(0, 1) "
   ]
  },
  {
   "cell_type": "code",
   "execution_count": 17,
   "id": "02860c3f",
   "metadata": {},
   "outputs": [],
   "source": [
    "eps = dist.sample()"
   ]
  },
  {
   "cell_type": "code",
   "execution_count": 18,
   "id": "6ebc32b4",
   "metadata": {},
   "outputs": [
    {
     "data": {
      "text/plain": [
       "tensor(-0.9928)"
      ]
     },
     "execution_count": 18,
     "metadata": {},
     "output_type": "execute_result"
    }
   ],
   "source": [
    "eps"
   ]
  },
  {
   "cell_type": "code",
   "execution_count": 19,
   "id": "150f1633",
   "metadata": {},
   "outputs": [
    {
     "data": {
      "text/plain": [
       "tensor(0.2437)"
      ]
     },
     "execution_count": 19,
     "metadata": {},
     "output_type": "execute_result"
    }
   ],
   "source": [
    "tor.exp(dist.log_prob(eps))"
   ]
  },
  {
   "cell_type": "code",
   "execution_count": 29,
   "id": "7143abb0",
   "metadata": {},
   "outputs": [
    {
     "data": {
      "text/plain": [
       "tensor(0.3970)"
      ]
     },
     "execution_count": 29,
     "metadata": {},
     "output_type": "execute_result"
    }
   ],
   "source": [
    "tor.exp(dist.log_prob(tor.tensor(-0.1)))"
   ]
  },
  {
   "cell_type": "code",
   "execution_count": 14,
   "id": "f1c98022",
   "metadata": {},
   "outputs": [
    {
     "data": {
      "text/plain": [
       "tensor([0.3850])"
      ]
     },
     "execution_count": 14,
     "metadata": {},
     "output_type": "execute_result"
    }
   ],
   "source": [
    "torch.randn(1)"
   ]
  },
  {
   "cell_type": "code",
   "execution_count": 23,
   "id": "bf29a66d",
   "metadata": {},
   "outputs": [
    {
     "name": "stderr",
     "output_type": "stream",
     "text": [
      "/home/taghianj/Documents/env/lib/python3.8/site-packages/numpy/core/shape_base.py:65: FutureWarning: The input object of type 'Tensor' is an array-like implementing one of the corresponding protocols (`__array__`, `__array_interface__` or `__array_struct__`); but not a sequence (or 0-D). In the future, this object will be coerced as if it was first converted using `np.array(obj)`. To retain the old behaviour, you have to either modify the type 'Tensor', or assign to an empty array created with `np.empty(correct_shape, dtype=object)`.\n",
      "  ary = asanyarray(ary)\n",
      "/home/taghianj/Documents/env/lib/python3.8/site-packages/numpy/core/shape_base.py:65: VisibleDeprecationWarning: Creating an ndarray from ragged nested sequences (which is a list-or-tuple of lists-or-tuples-or ndarrays with different lengths or shapes) is deprecated. If you meant to do this, you must specify 'dtype=object' when creating the ndarray.\n",
      "  ary = asanyarray(ary)\n"
     ]
    },
    {
     "data": {
      "image/png": "[encoded data removed]",
      "text/plain": [
       "<Figure size 432x288 with 1 Axes>"
      ]
     },
     "metadata": {
      "needs_background": "light"
     },
     "output_type": "display_data"
    }
   ],
   "source": [
    "# Checking unbiasedness of the gradient estimate\n",
    "\n",
    "# Gradient bandit\n",
    "%reset -f\n",
    "import numpy as np\n",
    "import torch as tor\n",
    "import matplotlib.pyplot as plt\n",
    "\n",
    "\n",
    "seed = 1\n",
    "tor.manual_seed(seed)\n",
    "# Problem parameters\n",
    "na = 3\n",
    "r = tor.tensor([-10., +10., 0.])\n",
    "\n",
    "# True gradient calculation\n",
    "np.random.seed(seed)\n",
    "prefnp = np.random.randn(3)\n",
    "pref = tor.tensor(prefnp, dtype=tor.float32, requires_grad=True)\n",
    "pol = tor.distributions.Categorical(logits=pref)\n",
    "piv = pol.probs\n",
    "jacobian = tor.zeros(3, 3)\n",
    "for i in range(3):\n",
    "    pol.probs[i].backward(retain_graph=True)\n",
    "    jacobian[:,i] = pref.grad.data\n",
    "    pref.grad.data.zero_()\n",
    "true_grad = tor.mm(jacobian, (r).reshape(na, 1))\n",
    "\n",
    "# Solution parameters\n",
    "pref = tor.tensor(prefnp, requires_grad=True)\n",
    "opt = tor.optim.SGD([pref], lr=0.1)\n",
    "pol = tor.distributions.Categorical(logits=pref)\n",
    "\n",
    "# Experiment parameters\n",
    "T = 10000\n",
    "grads = np.zeros((T, na))\n",
    "for t in range(T):\n",
    "    # Interaction\n",
    "    A = pol.sample()\n",
    "    R = r[A] + tor.randn(1)\n",
    "\n",
    "    # Form loss\n",
    "    sur_obj = pol.log_prob(A)*R\n",
    "    loss = -sur_obj\n",
    "\n",
    "    # Compute gradient\n",
    "    opt.zero_grad()\n",
    "    loss.backward(retain_graph=True)\n",
    "    \n",
    "    # Log\n",
    "    grads[t] = pref.grad.data.clone()\n",
    "\n",
    "# Plot\n",
    "for i in range(na):\n",
    "    plt.plot([0, T], [-true_grad.data[i]]*2, linestyle=\"--\", alpha=0.5, linewidth=3)\n",
    "grad_mean = np.cumsum(grads, 0)/np.arange(1, T+1, 1).repeat(3).reshape((T, na))\n",
    "plt.gca().set_prop_cycle(None)\n",
    "p = plt.plot(grad_mean)\n",
    "plt.xlabel('Trial')\n",
    "plt.ylabel('Gradient elements')\n",
    "plt.legend(iter(p), range(na))\n",
    "plt.show()"
   ]
  },
  {
   "cell_type": "code",
   "execution_count": 34,
   "id": "7004e9dc",
   "metadata": {},
   "outputs": [
    {
     "data": {
      "image/png": "[encoded data removed]",
      "text/plain": [
       "<Figure size 432x288 with 1 Axes>"
      ]
     },
     "metadata": {
      "needs_background": "light"
     },
     "output_type": "display_data"
    },
    {
     "data": {
      "image/png": "[encoded data removed]",
      "text/plain": [
       "<Figure size 432x288 with 1 Axes>"
      ]
     },
     "metadata": {
      "needs_background": "light"
     },
     "output_type": "display_data"
    },
    {
     "data": {
      "image/png": "[encoded data removed]",
      "text/plain": [
       "<Figure size 432x288 with 1 Axes>"
      ]
     },
     "metadata": {
      "needs_background": "light"
     },
     "output_type": "display_data"
    },
    {
     "data": {
      "image/png": "[encoded data removed]",
      "text/plain": [
       "<Figure size 432x288 with 1 Axes>"
      ]
     },
     "metadata": {
      "needs_background": "light"
     },
     "output_type": "display_data"
    }
   ],
   "source": [
    "%reset -f\n",
    "\n",
    "import torch as tor\n",
    "import matplotlib.pyplot as plt\n",
    "import numpy as np\n",
    "\n",
    "# Problem\n",
    "act_dim = 3\n",
    "astar = tor.tensor([-1., +1, 0])\n",
    "\n",
    "# Solution\n",
    "mu = tor.randn(act_dim, requires_grad=True)\n",
    "log_sigma = tor.randn(act_dim, requires_grad=True)\n",
    "opt = tor.optim.SGD([mu, log_sigma], lr=0.001)\n",
    "\n",
    "# Experiment\n",
    "T = 10000\n",
    "mus = tor.zeros(T, act_dim)\n",
    "sigmas = tor.zeros(T, act_dim)\n",
    "\n",
    "grads_mu = tor.zeros((T, act_dim))\n",
    "grads_sigma = tor.zeros((T, act_dim))\n",
    "\n",
    "for t in range(T):\n",
    "    # Interaction\n",
    "    pol = tor.distributions.MultivariateNormal(mu, tor.diag(tor.exp(log_sigma)))\n",
    "    A = pol.sample()\n",
    "    R = -tor.norm(A-astar)**2 + tor.randn(1)\n",
    "\n",
    "    # Compute loss\n",
    "    sur_obj = pol.log_prob(A)*R\n",
    "    loss = -sur_obj\n",
    "\n",
    "    # Update\n",
    "    opt.zero_grad()\n",
    "    loss.backward()\n",
    "    opt.step()\n",
    "\n",
    "    # Log\n",
    "    mus[t] = mu.data.clone()\n",
    "    sigmas[t] = tor.exp(log_sigma.data.clone())\n",
    "    \n",
    "    grads_mu[t] = mu.grad.data.clone()\n",
    "    grads_sigma[t] = log_sigma.grad.data.clone()\n",
    "    \n",
    "grad_mean = np.cumsum(grads_mu, 0)/np.arange(1, T+1, 1).repeat(3).reshape((T, act_dim))\n",
    "plt.gca().set_prop_cycle(None)\n",
    "p = plt.plot(grad_mean)\n",
    "plt.xlabel('Trial')\n",
    "plt.ylabel('Gradient elements')\n",
    "plt.legend(iter(p), range(act_dim))\n",
    "\n",
    "plt.figure()\n",
    "grad_mean = np.cumsum(grads_sigma, 0)/np.arange(1, T+1, 1).repeat(3).reshape((T, act_dim))\n",
    "plt.gca().set_prop_cycle(None)\n",
    "p = plt.plot(grad_mean)\n",
    "plt.xlabel('Trial')\n",
    "plt.ylabel('Gradient elements')\n",
    "plt.legend(iter(p), range(act_dim))\n",
    "\n",
    "\n",
    "plt.figure()    \n",
    "plt.plot(mus)\n",
    "plt.figure()\n",
    "plt.plot(sigmas)\n",
    "plt.show()"
   ]
  },
  {
   "cell_type": "code",
   "execution_count": 36,
   "id": "ef7c8ee9",
   "metadata": {},
   "outputs": [],
   "source": [
    "tor.distributions.normal.Normal??"
   ]
  },
  {
   "cell_type": "code",
   "execution_count": 45,
   "id": "6f622fba",
   "metadata": {},
   "outputs": [
    {
     "data": {
      "text/plain": [
       "array([-0.38405435])"
      ]
     },
     "execution_count": 45,
     "metadata": {},
     "output_type": "execute_result"
    }
   ],
   "source": [
    "np.random.randn(1)"
   ]
  },
  {
   "cell_type": "code",
   "execution_count": 48,
   "id": "77c3eaa1",
   "metadata": {},
   "outputs": [
    {
     "data": {
      "text/plain": [
       "tensor(1.)"
      ]
     },
     "execution_count": 48,
     "metadata": {},
     "output_type": "execute_result"
    }
   ],
   "source": [
    "tor.norm(tor.tensor(-10.0) + tor.tensor(9.0))"
   ]
  },
  {
   "cell_type": "code",
   "execution_count": 57,
   "id": "681ba994",
   "metadata": {},
   "outputs": [],
   "source": [
    "tor.randn??"
   ]
  },
  {
   "cell_type": "code",
   "execution_count": null,
   "id": "9b687f19",
   "metadata": {},
   "outputs": [],
   "source": []
  }
 ],
 "metadata": {
  "kernelspec": {
   "display_name": "Python 3 (ipykernel)",
   "language": "python",
   "name": "python3"
  },
  "language_info": {
   "codemirror_mode": {
    "name": "ipython",
    "version": 3
   },
   "file_extension": ".py",
   "mimetype": "text/x-python",
   "name": "python",
   "nbconvert_exporter": "python",
   "pygments_lexer": "ipython3",
   "version": "3.8.10"
  }
 },
 "nbformat": 4,
 "nbformat_minor": 5
}
